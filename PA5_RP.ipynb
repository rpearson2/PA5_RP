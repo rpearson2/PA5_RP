{
 "cells": [
  {
   "cell_type": "markdown",
   "id": "683496f4",
   "metadata": {},
   "source": [
    "* Robert Pearson\n",
    "* Assignment 5\n",
    "* Version 1\n",
    "* Fall 2023"
   ]
  },
  {
   "cell_type": "markdown",
   "id": "e5da7a72",
   "metadata": {},
   "source": [
    "Task 1: Language Translator - write a program that implements a translation dictionary using a\n",
    "Python dictionary data structure that maps 10 English words to 10 words in another language (e.g.\n",
    "Spanish, German, Farsi, Arabic, Japanese, etc.). The keys in your dictionary should be in English\n",
    "(all lower case), and your values should be in your target language (also all lowercase). Your\n",
    "program should ask for words in English to translate to your target language until the user enters\n",
    "the number zero (0). \n"
   ]
  },
  {
   "cell_type": "code",
   "execution_count": 8,
   "id": "6b3f0e76",
   "metadata": {},
   "outputs": [
    {
     "name": "stdout",
     "output_type": "stream",
     "text": [
      "\n",
      "Enter a word to translate from English to German (enter 0 to stop): book\n",
      "The German word for book is buch.\n",
      "\n",
      "Enter a word to translate from English to German (enter 0 to stop): car\n",
      "The German word for car is auto.\n",
      "\n",
      "Enter a word to translate from English to German (enter 0 to stop): train\n",
      "The German word for train is zug.\n",
      "\n",
      "Enter a word to translate from English to German (enter 0 to stop): hello\n",
      "The German word for hello is outside this dictionary.\n",
      "\n",
      "Enter a word to translate from English to German (enter 0 to stop): hi\n",
      "The German word for hi is outside this dictionary.\n",
      "\n",
      "Enter a word to translate from English to German (enter 0 to stop): trian\n",
      "The German word for trian is outside this dictionary.\n",
      "\n",
      "Enter a word to translate from English to German (enter 0 to stop): 0\n"
     ]
    }
   ],
   "source": [
    "translation_dict={'book':'buch','head':'kopf','cheese':'käse','dog':'hund','car':'auto','cat':'katze','house':'haus','vegetable':'gemüse','poison':'gift','train':'zug'}\n",
    "prompt=\"\\nEnter a word to translate from English to German (enter 0 to stop): \"\n",
    "word=\" \"\n",
    "active=True\n",
    "while active:\n",
    "    word=input(prompt)\n",
    "    if word=='0': #stop command\n",
    "        break\n",
    "    elif word=='book': #1\n",
    "        print(f\"The German word for {word} is {translation_dict[word]}.\")\n",
    "    elif word=='head': #2\n",
    "        print(f\"The German word for {word} is {translation_dict[word]}.\")\n",
    "    elif word=='cheese': #3\n",
    "        print(f\"The German word for {word} is {translation_dict[word]}.\")\n",
    "    elif word=='dog': #4\n",
    "        print(f\"The German word for {word} is {translation_dict[word]}.\")\n",
    "    elif word=='car': #5\n",
    "        print(f\"The German word for {word} is {translation_dict[word]}.\")\n",
    "    elif word=='cat': #6\n",
    "        print(f\"The German word for {word} is {translation_dict[word]}.\")\n",
    "    elif word=='house': #7\n",
    "        print(f\"The German word for {word} is {translation_dict[word]}.\")\n",
    "    elif word=='vegetable': #8\n",
    "        print(f\"The German word for {word} is {translation_dict[word]}.\")\n",
    "    elif word=='poison': #9\n",
    "        print(f\"The German word for {word} is {translation_dict[word]}.\")\n",
    "    elif word=='train': #10\n",
    "        print(f\"The German word for {word} is {translation_dict[word]}.\")\n",
    "    else: # if word is outside dictionary.\n",
    "        print(f\"The German word for {word} is outside this dictionary.\")"
   ]
  },
  {
   "cell_type": "markdown",
   "id": "915a9787",
   "metadata": {},
   "source": [
    "Task 2: Temperature converter- Create a dictionary named temp_dict containing the highest\n",
    "temperature in Fahrenheit for each day of September 2023 in Louisville, Kentucky. The keys will be the\n",
    "day of the month, and the values will be the temperature in Fahrenheit. Access each temperature value in\n",
    "Fahrenheit from the dictionary, convert it to Celsius using the formula (temperature - 32) * 5/9, and\n",
    "update the original dictionary with the Celsius value. "
   ]
  },
  {
   "cell_type": "code",
   "execution_count": 2,
   "id": "3ff93090",
   "metadata": {},
   "outputs": [
    {
     "name": "stdout",
     "output_type": "stream",
     "text": [
      "The original dictionary of the temperature for each day of Septmeber in Fahrenheit: \n",
      "\n",
      "{1: 88, 2: 91, 3: 92, 4: 93, 5: 90, 6: 84, 7: 77, 8: 84, 9: 81, 10: 84, 11: 87, 12: 80, 13: 81, 14: 82, 15: 81, 16: 83, 17: 79, 18: 80, 19: 81, 20: 85, 21: 86, 22: 89, 23: 83, 24: 84, 25: 87, 26: 89, 27: 83, 28: 82, 29: 85, 30: 86}\n",
      "\n",
      "The updated dictionary of the temperature for each day of September in Celsius(rounded to 2 dec.): \n",
      "\n",
      "{1: 31.11, 2: 32.78, 3: 33.33, 4: 33.89, 5: 32.22, 6: 28.89, 7: 25.0, 8: 28.89, 9: 27.22, 10: 28.89, 11: 30.56, 12: 26.67, 13: 27.22, 14: 27.78, 15: 27.22, 16: 28.33, 17: 26.11, 18: 26.67, 19: 27.22, 20: 29.44, 21: 30.0, 22: 31.67, 23: 28.33, 24: 28.89, 25: 30.56, 26: 31.67, 27: 28.33, 28: 27.78, 29: 29.44, 30: 30.0}\n"
     ]
    }
   ],
   "source": [
    "temp_dict={1:88,2:91,3:92,4:93,5:90,6:84,7:77,8:84,9:81,10:84,\n",
    "          11:87,12:80,13:81,14:82,15:81,16:83,17:79,18:80,19:81,20:85,\n",
    "          21:86,22:89,23:83,24:84,25:87,26:89,27:83,28:82,29:85,30:86}\n",
    "print(f\"The original dictionary of the temperature for each day of Septmeber in Fahrenheit: \\n\\n{temp_dict}\\n\")\n",
    "for d,t in temp_dict.items():\n",
    "    temp_dict[d]=round( (t-32)*5/9, 2)\n",
    "\n",
    "print(f\"The updated dictionary of the temperature for each day of September in Celsius(rounded to 2 dec.): \\n\\n{temp_dict}\")"
   ]
  },
  {
   "cell_type": "markdown",
   "id": "8474fb40",
   "metadata": {},
   "source": [
    "Task 3: Write a Python script to create a dictionary where the keys are numbers between 1 and\n",
    "15 (both included) and the values are the squares of the keys."
   ]
  },
  {
   "cell_type": "code",
   "execution_count": 26,
   "id": "680465de",
   "metadata": {
    "scrolled": true
   },
   "outputs": [
    {
     "name": "stdout",
     "output_type": "stream",
     "text": [
      "{1: 1, 2: 4, 3: 9, 4: 16, 5: 25, 6: 36, 7: 49, 8: 64, 9: 81, 10: 100, 11: 121, 12: 144, 13: 169, 14: 196, 15: 225}\n"
     ]
    }
   ],
   "source": [
    "Dict1={}\n",
    "for i in range(1,16):\n",
    "    Dict1.update({i:i**2})\n",
    "print(Dict1)"
   ]
  },
  {
   "cell_type": "markdown",
   "id": "84b20829",
   "metadata": {},
   "source": [
    "Task4: User Profile Dictionary\n",
    "Create a Python program that manages user profiles using a dictionary. Follow these steps:\n",
    "- A. Create an empty dictionary named user_profiles to store user information.\n",
    "- B. Implement a while loop that allows users to input their information. The loop should repeatedly ask the user to enter their name, age, email, and city. Add this information to theuser_profiles dictionary.\n",
    "- C. Add a break condition to exit the loop.\n",
    "- D. Ask the user to input their information and add it to the dictionary. Allow the user to search for a specific user's profile by providing their name. If the user is found, display their profile; otherwise, show a message that the user is not found"
   ]
  },
  {
   "cell_type": "code",
   "execution_count": 16,
   "id": "081ff326",
   "metadata": {},
   "outputs": [
    {
     "name": "stdout",
     "output_type": "stream",
     "text": [
      "Enter your name: Ron\n",
      "Enter your age: 19\n",
      "Enter your email: r@gmail.com\n",
      "Enter your city: Boston\n",
      "Do you want to continue(enter 'yes' or 'no'): yes\n",
      "Enter your name: Joe\n",
      "Enter your age: 20\n",
      "Enter your email: j@gmail.com\n",
      "Enter your city: Paris\n",
      "Do you want to continue(enter 'yes' or 'no'): no\n",
      "Would you like to search for a user(enter 'yes' or 'no'): yes\n",
      "Enter the user you want to search for: Ron\n",
      "The user profile for Ron: {'age': 19, 'email': 'r@gmail.com', 'city': 'Boston'}\n",
      "Would you like to search for a user(enter 'yes' or 'no'): no\n"
     ]
    }
   ],
   "source": [
    "user_profiles={}\n",
    "active=True\n",
    "search=True\n",
    "while active:\n",
    "    name=input(\"Enter your name: \")\n",
    "    age=int(input(\"Enter your age: \"))\n",
    "    email=input(\"Enter your email: \")\n",
    "    city=input(\"Enter your city: \")\n",
    "    cont=input(\"Do you want to continue(enter 'yes' or 'no'): \")\n",
    "    user_profiles.update({name:{'age':age,'email':email,'city':city}}) # adds information to user profile\n",
    "    \n",
    "    if cont=='no': # if user doesn't want to add another person then it gives them the option to search the dictionary\n",
    "        while search: #lets the user continue to search for a user as many times as they want\n",
    "            search=input(\"Would you like to search for a user(enter 'yes' or 'no'): \")\n",
    "            if search=='yes':\n",
    "                s_search=input(\"Enter the user you want to search for: \")\n",
    "                s_name=s_search\n",
    "                if s_name in user_profiles:\n",
    "                    print(f\"The user profile for {s_name}: {user_profiles[s_name]}\")\n",
    "                else:\n",
    "                    print(\"That user cannot be found.\")\n",
    "            else: #if user says no then while loop ends \n",
    "                break\n",
    "    \n",
    "        break #if user doesn't want to continue the program ends. "
   ]
  },
  {
   "cell_type": "code",
   "execution_count": null,
   "id": "5da843da",
   "metadata": {},
   "outputs": [],
   "source": []
  },
  {
   "cell_type": "code",
   "execution_count": null,
   "id": "f7950110",
   "metadata": {},
   "outputs": [],
   "source": []
  }
 ],
 "metadata": {
  "kernelspec": {
   "display_name": "Python 3 (ipykernel)",
   "language": "python",
   "name": "python3"
  },
  "language_info": {
   "codemirror_mode": {
    "name": "ipython",
    "version": 3
   },
   "file_extension": ".py",
   "mimetype": "text/x-python",
   "name": "python",
   "nbconvert_exporter": "python",
   "pygments_lexer": "ipython3",
   "version": "3.11.4"
  }
 },
 "nbformat": 4,
 "nbformat_minor": 5
}
